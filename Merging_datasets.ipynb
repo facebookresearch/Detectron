{
 "cells": [
  {
   "cell_type": "markdown",
   "metadata": {},
   "source": [
    "## Generating small VOC datasets\n"
   ]
  },
  {
   "cell_type": "code",
   "execution_count": 1,
   "metadata": {
    "collapsed": true
   },
   "outputs": [],
   "source": [
    "import json\n",
    "import os\n",
    "import copy"
   ]
  },
  {
   "cell_type": "code",
   "execution_count": 2,
   "metadata": {
    "collapsed": true
   },
   "outputs": [],
   "source": [
    "val=True\n",
    "if val:\n",
    "    annotations_file_voc = '/home/elnazavr/Detectron/lib/datasets/data/VOC2012/annotations/pascal_val2012.json'\n",
    "    annotations_file_coco = '/home/elnazavr/Detectron/lib/datasets/data/coco/annotations/instances_val2017.json'\n",
    "    annotations_file_cocovoc = '/home/elnazavr/Detectron/lib/datasets/data/cocovoc/annotations_cocovoc_val.json'\n",
    "else:\n",
    "    \n",
    "    annotations_file_voc = '/home/elnazavr/Detectron/lib/datasets/data/VOC2012/annotations/pascal_train2012.json'\n",
    "    annotations_file_coco = '/home/elnazavr/Detectron/lib/datasets/data/coco/annotations/instances_train2017.json'\n",
    "    annotations_file_cocovoc = '/home/elnazavr/Detectron/lib/datasets/data/cocovoc/annotations_cocovoc_train.json'\n"
   ]
  },
  {
   "cell_type": "code",
   "execution_count": 3,
   "metadata": {
    "collapsed": true
   },
   "outputs": [],
   "source": [
    "def read_file(annotations_file):\n",
    "    with open(annotations_file, 'r') as f:\n",
    "        annotations = json.load(f)\n",
    "    return annotations"
   ]
  },
  {
   "cell_type": "code",
   "execution_count": 4,
   "metadata": {
    "collapsed": true
   },
   "outputs": [],
   "source": [
    "voc = read_file(annotations_file_voc)\n",
    "coco = read_file(annotations_file_coco)"
   ]
  },
  {
   "cell_type": "code",
   "execution_count": 5,
   "metadata": {},
   "outputs": [
    {
     "data": {
      "text/plain": [
       "[u'info', u'licenses', u'images', u'annotations', u'categories']"
      ]
     },
     "execution_count": 5,
     "metadata": {},
     "output_type": "execute_result"
    }
   ],
   "source": [
    "coco.keys()"
   ]
  },
  {
   "cell_type": "code",
   "execution_count": 6,
   "metadata": {},
   "outputs": [
    {
     "data": {
      "text/plain": [
       "{u'area': 702.1057499999998,\n",
       " u'bbox': [473.07, 395.93, 38.65, 28.67],\n",
       " u'category_id': 18,\n",
       " u'id': 1768,\n",
       " u'image_id': 289343,\n",
       " u'iscrowd': 0,\n",
       " u'segmentation': [[510.66,\n",
       "   423.01,\n",
       "   511.72,\n",
       "   420.03,\n",
       "   510.45,\n",
       "   416.0,\n",
       "   510.34,\n",
       "   413.02,\n",
       "   510.77,\n",
       "   410.26,\n",
       "   510.77,\n",
       "   407.5,\n",
       "   510.34,\n",
       "   405.16,\n",
       "   511.51,\n",
       "   402.83,\n",
       "   511.41,\n",
       "   400.49,\n",
       "   510.24,\n",
       "   398.16,\n",
       "   509.39,\n",
       "   397.31,\n",
       "   504.61,\n",
       "   399.22,\n",
       "   502.17,\n",
       "   399.64,\n",
       "   500.89,\n",
       "   401.66,\n",
       "   500.47,\n",
       "   402.08,\n",
       "   499.09,\n",
       "   401.87,\n",
       "   495.79,\n",
       "   401.98,\n",
       "   490.59,\n",
       "   401.77,\n",
       "   488.79,\n",
       "   401.77,\n",
       "   485.39,\n",
       "   398.58,\n",
       "   483.9,\n",
       "   397.31,\n",
       "   481.56,\n",
       "   396.35,\n",
       "   478.48,\n",
       "   395.93,\n",
       "   476.68,\n",
       "   396.03,\n",
       "   475.4,\n",
       "   396.77,\n",
       "   473.92,\n",
       "   398.79,\n",
       "   473.28,\n",
       "   399.96,\n",
       "   473.49,\n",
       "   401.87,\n",
       "   474.56,\n",
       "   403.47,\n",
       "   473.07,\n",
       "   405.59,\n",
       "   473.39,\n",
       "   407.71,\n",
       "   476.68,\n",
       "   409.41,\n",
       "   479.23,\n",
       "   409.73,\n",
       "   481.56,\n",
       "   410.69,\n",
       "   480.4,\n",
       "   411.85,\n",
       "   481.35,\n",
       "   414.93,\n",
       "   479.86,\n",
       "   418.65,\n",
       "   477.32,\n",
       "   420.03,\n",
       "   476.04,\n",
       "   422.58,\n",
       "   479.02,\n",
       "   422.58,\n",
       "   480.29,\n",
       "   423.01,\n",
       "   483.79,\n",
       "   419.93,\n",
       "   486.66,\n",
       "   416.21,\n",
       "   490.06,\n",
       "   415.57,\n",
       "   492.18,\n",
       "   416.85,\n",
       "   491.65,\n",
       "   420.24,\n",
       "   492.82,\n",
       "   422.9,\n",
       "   493.56,\n",
       "   424.39,\n",
       "   496.43,\n",
       "   424.6,\n",
       "   498.02,\n",
       "   423.01,\n",
       "   498.13,\n",
       "   421.31,\n",
       "   497.07,\n",
       "   420.03,\n",
       "   497.07,\n",
       "   415.15,\n",
       "   496.33,\n",
       "   414.51,\n",
       "   501.1,\n",
       "   411.96,\n",
       "   502.06,\n",
       "   411.32,\n",
       "   503.02,\n",
       "   415.04,\n",
       "   503.33,\n",
       "   418.12,\n",
       "   501.1,\n",
       "   420.24,\n",
       "   498.98,\n",
       "   421.63,\n",
       "   500.47,\n",
       "   424.39,\n",
       "   505.03,\n",
       "   423.32,\n",
       "   506.2,\n",
       "   421.31,\n",
       "   507.69,\n",
       "   419.5,\n",
       "   506.31,\n",
       "   423.32,\n",
       "   510.03,\n",
       "   423.01,\n",
       "   510.45,\n",
       "   423.01]]}"
      ]
     },
     "execution_count": 6,
     "metadata": {},
     "output_type": "execute_result"
    }
   ],
   "source": [
    "coco['annotations'][0]"
   ]
  },
  {
   "cell_type": "code",
   "execution_count": 7,
   "metadata": {},
   "outputs": [
    {
     "data": {
      "text/plain": [
       "[{u'id': 1, u'name': u'aeroplane', u'supercategory': u'none'},\n",
       " {u'id': 2, u'name': u'bicycle', u'supercategory': u'none'},\n",
       " {u'id': 3, u'name': u'bird', u'supercategory': u'none'},\n",
       " {u'id': 4, u'name': u'boat', u'supercategory': u'none'},\n",
       " {u'id': 5, u'name': u'bottle', u'supercategory': u'none'},\n",
       " {u'id': 6, u'name': u'bus', u'supercategory': u'none'},\n",
       " {u'id': 7, u'name': u'car', u'supercategory': u'none'},\n",
       " {u'id': 8, u'name': u'cat', u'supercategory': u'none'},\n",
       " {u'id': 9, u'name': u'chair', u'supercategory': u'none'},\n",
       " {u'id': 10, u'name': u'cow', u'supercategory': u'none'},\n",
       " {u'id': 11, u'name': u'diningtable', u'supercategory': u'none'},\n",
       " {u'id': 12, u'name': u'dog', u'supercategory': u'none'},\n",
       " {u'id': 13, u'name': u'horse', u'supercategory': u'none'},\n",
       " {u'id': 14, u'name': u'motorbike', u'supercategory': u'none'},\n",
       " {u'id': 15, u'name': u'person', u'supercategory': u'none'},\n",
       " {u'id': 16, u'name': u'pottedplant', u'supercategory': u'none'},\n",
       " {u'id': 17, u'name': u'sheep', u'supercategory': u'none'},\n",
       " {u'id': 18, u'name': u'sofa', u'supercategory': u'none'},\n",
       " {u'id': 19, u'name': u'train', u'supercategory': u'none'},\n",
       " {u'id': 20, u'name': u'tvmonitor', u'supercategory': u'none'}]"
      ]
     },
     "execution_count": 7,
     "metadata": {},
     "output_type": "execute_result"
    }
   ],
   "source": [
    "voc['categories']"
   ]
  },
  {
   "cell_type": "code",
   "execution_count": 8,
   "metadata": {},
   "outputs": [
    {
     "name": "stdout",
     "output_type": "stream",
     "text": [
      "('VOC names', set([u'sheep', u'horse', u'bicycle', u'aeroplane', u'cow', u'sofa', u'bus', u'dog', u'cat', u'person', u'train', u'diningtable', u'bottle', u'car', u'pottedplant', u'tvmonitor', u'chair', u'bird', u'boat', u'motorbike']))\n",
      "('COCO names', set([u'toilet', u'teddy bear', u'cup', u'bicycle', u'kite', u'carrot', u'stop sign', u'tennis racket', u'donut', u'snowboard', u'sandwich', u'motorcycle', u'oven', u'keyboard', u'scissors', u'airplane', u'couch', u'mouse', u'fire hydrant', u'boat', u'apple', u'sheep', u'horse', u'banana', u'baseball glove', u'tv', u'traffic light', u'chair', u'bowl', u'microwave', u'bench', u'book', u'elephant', u'orange', u'tie', u'clock', u'bird', u'knife', u'pizza', u'fork', u'hair drier', u'frisbee', u'umbrella', u'bottle', u'bus', u'bear', u'vase', u'toothbrush', u'spoon', u'train', u'sink', u'potted plant', u'handbag', u'cell phone', u'toaster', u'broccoli', u'refrigerator', u'laptop', u'remote', u'surfboard', u'cow', u'dining table', u'hot dog', u'car', u'sports ball', u'skateboard', u'dog', u'bed', u'cat', u'person', u'skis', u'giraffe', u'truck', u'parking meter', u'suitcase', u'cake', u'wine glass', u'baseball bat', u'backpack', u'zebra']))\n",
      "('Intresection', set([u'sheep', u'horse', u'bicycle', u'cow', u'bus', u'dog', u'cat', u'person', u'train', u'bottle', u'car', u'chair', u'bird', u'boat']))\n"
     ]
    }
   ],
   "source": [
    "voc_category_names = set([x['name'] for x in voc['categories']])\n",
    "coco_ids = set([x['name'] for x in coco['categories']])\n",
    "print(\"VOC names\",voc_category_names)\n",
    "print(\"COCO names\", coco_ids)\n",
    "print(\"Intresection\", coco_ids.intersection(voc_category_names))"
   ]
  },
  {
   "cell_type": "code",
   "execution_count": 9,
   "metadata": {},
   "outputs": [
    {
     "name": "stdout",
     "output_type": "stream",
     "text": [
      "{u'toilet': 70, u'toaster': 80, u'bicycle': 2, u'kite': 38, u'wineglass': 46, u'skis': 35, u'keyboard': 76, u'carrot': 57, u'teddybear': 88, u'donut': 60, u'snowboard': 36, u'sandwich': 54, u'motorcycle': 4, u'oven': 79, u'hotdog': 58, u'pottedplant': 64, u'scissors': 87, u'airplane': 5, u'couch': 63, u'mouse': 74, u'baseballglove': 40, u'boat': 9, u'apple': 53, u'sheep': 20, u'horse': 19, u'cup': 47, u'tv': 72, u'backpack': 27, u'chair': 62, u'bowl': 51, u'trafficlight': 10, u'microwave': 78, u'bench': 15, u'book': 84, u'refrigerator': 82, u'baseballbat': 39, u'elephant': 22, u'orange': 55, u'tie': 32, u'bird': 16, u'knife': 49, u'pizza': 59, u'fork': 48, u'sink': 81, u'frisbee': 34, u'umbrella': 28, u'banana': 52, u'bus': 6, u'suitcase': 33, u'bear': 23, u'vase': 86, u'sportsball': 37, u'tennisracket': 43, u'spoon': 50, u'train': 7, u'firehydrant': 11, u'handbag': 31, u'broccoli': 56, u'diningtable': 67, u'cellphone': 77, u'laptop': 73, u'hairdrier': 89, u'remote': 75, u'surfboard': 42, u'cow': 21, u'car': 3, u'toothbrush': 90, u'clock': 85, u'skateboard': 41, u'dog': 18, u'bed': 65, u'cat': 17, u'person': 1, u'giraffe': 25, u'truck': 8, u'bottle': 44, u'parkingmeter': 14, u'cake': 61, u'stopsign': 13, u'zebra': 24}\n"
     ]
    }
   ],
   "source": [
    "voc_category = voc['categories']\n",
    "coco_category_names = {x['name'].replace(\" \",\"\") : x['id'] for x in coco['categories']}\n",
    "print(coco_category_names)\n",
    "voc_to_coco_cat_ids = {}\n",
    "for cat in voc_category:\n",
    "    voc_name = cat['name']\n",
    "    voc_id = cat['id']\n",
    "    if voc_name == 'sofa':\n",
    "        voc_name = 'couch'\n",
    "    elif voc_name == 'motorbike':\n",
    "        voc_name ='motorcycle'\n",
    "    elif voc_name == 'aeroplane':\n",
    "        voc_name = 'airplane'\n",
    "    elif voc_name == 'tvmonitor':\n",
    "        voc_name = 'tv'\n",
    "\n",
    "    voc_to_coco_cat_ids[voc_id] = coco_category_names[voc_name]"
   ]
  },
  {
   "cell_type": "code",
   "execution_count": 10,
   "metadata": {},
   "outputs": [
    {
     "data": {
      "text/plain": [
       "{1: 5,\n",
       " 2: 2,\n",
       " 3: 16,\n",
       " 4: 9,\n",
       " 5: 44,\n",
       " 6: 6,\n",
       " 7: 3,\n",
       " 8: 17,\n",
       " 9: 62,\n",
       " 10: 21,\n",
       " 11: 67,\n",
       " 12: 18,\n",
       " 13: 19,\n",
       " 14: 4,\n",
       " 15: 1,\n",
       " 16: 64,\n",
       " 17: 20,\n",
       " 18: 63,\n",
       " 19: 7,\n",
       " 20: 72}"
      ]
     },
     "execution_count": 10,
     "metadata": {},
     "output_type": "execute_result"
    }
   ],
   "source": [
    "voc_to_coco_cat_ids"
   ]
  },
  {
   "cell_type": "code",
   "execution_count": 11,
   "metadata": {
    "collapsed": true,
    "scrolled": true
   },
   "outputs": [],
   "source": [
    "new_voc_annotations = []\n",
    "for voc_ann in  voc['annotations']:\n",
    "    new_ann = voc_ann.copy()\n",
    "    new_ann['category_id'] = voc_to_coco_cat_ids[voc_ann['category_id']]\n",
    "    new_voc_annotations.append(new_ann)"
   ]
  },
  {
   "cell_type": "code",
   "execution_count": 12,
   "metadata": {},
   "outputs": [
    {
     "data": {
      "text/plain": [
       "[u'info', u'licenses', u'images', u'annotations', u'categories']"
      ]
     },
     "execution_count": 12,
     "metadata": {},
     "output_type": "execute_result"
    }
   ],
   "source": [
    "coco.keys()"
   ]
  },
  {
   "cell_type": "code",
   "execution_count": 13,
   "metadata": {},
   "outputs": [
    {
     "name": "stdout",
     "output_type": "stream",
     "text": [
      "(52568, 10823)\n"
     ]
    }
   ],
   "source": [
    "cocovoc = {'images': [], 'annotations':[], 'categories': None}\n",
    "cocovoc['images'].extend(coco['images'])\n",
    "cocovoc['images'].extend(voc['images'])\n",
    "cocovoc['annotations'].extend(new_voc_annotations)\n",
    "cocovoc['annotations'].extend(coco['annotations'])\n",
    "cocovoc['categories'] = coco['categories']\n",
    "print(len(cocovoc['annotations']), len(cocovoc['images']))\n",
    "with open(annotations_file_cocovoc, \"w\") as f:\n",
    "    json.dump(cocovoc, f)"
   ]
  },
  {
   "cell_type": "code",
   "execution_count": 14,
   "metadata": {},
   "outputs": [
    {
     "data": {
      "text/plain": [
       "52568"
      ]
     },
     "execution_count": 14,
     "metadata": {},
     "output_type": "execute_result"
    }
   ],
   "source": [
    "len(new_voc_annotations)+ len(coco['annotations']) "
   ]
  },
  {
   "cell_type": "code",
   "execution_count": 15,
   "metadata": {},
   "outputs": [
    {
     "data": {
      "text/plain": [
       "(52568, 52568, 36781, 15787)"
      ]
     },
     "execution_count": 15,
     "metadata": {},
     "output_type": "execute_result"
    }
   ],
   "source": [
    "len(cocovoc['annotations']), len(coco['annotations']) + len(voc['annotations']), len(coco['annotations']),len(voc['annotations'])"
   ]
  },
  {
   "cell_type": "code",
   "execution_count": 16,
   "metadata": {},
   "outputs": [
    {
     "data": {
      "text/plain": [
       "({u'file_name': u'2011_003275.jpg',\n",
       "  u'height': 403,\n",
       "  u'id': 2011003275,\n",
       "  u'width': 500},\n",
       " {u'coco_url': u'http://images.cocodataset.org/val2017/000000397133.jpg',\n",
       "  u'date_captured': u'2013-11-14 17:02:52',\n",
       "  u'file_name': u'000000397133.jpg',\n",
       "  u'flickr_url': u'http://farm7.staticflickr.com/6116/6255196340_da26cf2c9e_z.jpg',\n",
       "  u'height': 427,\n",
       "  u'id': 397133,\n",
       "  u'license': 4,\n",
       "  u'width': 640})"
      ]
     },
     "execution_count": 16,
     "metadata": {},
     "output_type": "execute_result"
    }
   ],
   "source": [
    "cocovoc['images'][-1], cocovoc['images'][0]"
   ]
  },
  {
   "cell_type": "code",
   "execution_count": 17,
   "metadata": {},
   "outputs": [
    {
     "data": {
      "text/plain": [
       "({u'file_name': u'2008_000002.jpg',\n",
       "  u'height': 375,\n",
       "  u'id': 2008000002,\n",
       "  u'width': 500},\n",
       " {u'coco_url': u'http://images.cocodataset.org/val2017/000000397133.jpg',\n",
       "  u'date_captured': u'2013-11-14 17:02:52',\n",
       "  u'file_name': u'000000397133.jpg',\n",
       "  u'flickr_url': u'http://farm7.staticflickr.com/6116/6255196340_da26cf2c9e_z.jpg',\n",
       "  u'height': 427,\n",
       "  u'id': 397133,\n",
       "  u'license': 4,\n",
       "  u'width': 640},\n",
       " {u'file_name': u'2011_003275.jpg',\n",
       "  u'height': 403,\n",
       "  u'id': 2011003275,\n",
       "  u'width': 500})"
      ]
     },
     "execution_count": 17,
     "metadata": {},
     "output_type": "execute_result"
    }
   ],
   "source": [
    "voc['images'][0],coco['images'][0], cocovoc['images'][-1]"
   ]
  }
 ],
 "metadata": {
  "kernelspec": {
   "display_name": "Python 2",
   "language": "python",
   "name": "python2"
  },
  "language_info": {
   "codemirror_mode": {
    "name": "ipython",
    "version": 2
   },
   "file_extension": ".py",
   "mimetype": "text/x-python",
   "name": "python",
   "nbconvert_exporter": "python",
   "pygments_lexer": "ipython2",
   "version": "2.7.12"
  }
 },
 "nbformat": 4,
 "nbformat_minor": 2
}
