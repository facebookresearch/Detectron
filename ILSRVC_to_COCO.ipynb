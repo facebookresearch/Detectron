{
 "cells": [
  {
   "cell_type": "code",
   "execution_count": 41,
   "metadata": {
    "collapsed": true
   },
   "outputs": [],
   "source": [
    "import xml.etree.ElementTree as ET\n",
    "from xml.dom import minidom\n",
    "import lxml\n",
    "\n"
   ]
  },
  {
   "cell_type": "code",
   "execution_count": 43,
   "metadata": {},
   "outputs": [],
   "source": [
    "xml = \"\"\"<annotation>\n",
    "        <folder>ILSVRC2014_train_0000</folder>\n",
    "        <filename>ILSVRC2014_train_00009999</filename>\n",
    "        <source>\n",
    "                <database>ILSVRC_2014</database>\n",
    "        </source>\n",
    "        <size>  \n",
    "                <width>350</width>\n",
    "                <height>500</height>\n",
    "        </size>\n",
    "        <object>\n",
    "                <name>n02121808</name>\n",
    "                <bndbox>\n",
    "                        <xmin>5</xmin>\n",
    "                        <xmax>343</xmax>\n",
    "                        <ymin>6</ymin>\n",
    "                        <ymax>482</ymax>\n",
    "                </bndbox>\n",
    "        </object>\n",
    "</annotation>\"\"\"\n",
    "path = \"/mnt/3tb/detectron/datasets/imagenet/ILSVRC/Annotations/DET/train/ILSVRC2014_train_0000/ILSVRC2014_train_00009999.xml\""
   ]
  },
  {
   "cell_type": "code",
   "execution_count": 27,
   "metadata": {},
   "outputs": [],
   "source": [
    "mydoc = minidom.parse(path)\n",
    "annotation = mydoc.getElementsByTagName('annotation')"
   ]
  },
  {
   "cell_type": "code",
   "execution_count": 61,
   "metadata": {},
   "outputs": [
    {
     "data": {
      "text/plain": [
       "'ILSVRC2014_train_0000'"
      ]
     },
     "execution_count": 61,
     "metadata": {},
     "output_type": "execute_result"
    }
   ],
   "source": [
    "from xml.etree import ElementTree\n",
    "\n",
    "tree = ElementTree.parse(path)   \n",
    "ann = tree.getroot()\n",
    "children = [ child.tag for child in ann]\n",
    "ann[0].text"
   ]
  },
  {
   "cell_type": "code",
   "execution_count": 66,
   "metadata": {},
   "outputs": [],
   "source": [
    "annFile = ''"
   ]
  },
  {
   "cell_type": "code",
   "execution_count": 75,
   "metadata": {},
   "outputs": [],
   "source": [
    "import json\n",
    "path = \"/mnt/3tb/detectron/datasets/imagenet/Annotations/ILSVRC2014_train.json\"\n",
    "def read_file(annotations_file):\n",
    "    with open(annotations_file, 'r') as f:\n",
    "        annotations = json.load(f)\n",
    "    return annotations\n",
    "ilsvrc = read_file(path)"
   ]
  },
  {
   "cell_type": "code",
   "execution_count": 76,
   "metadata": {},
   "outputs": [
    {
     "data": {
      "text/plain": [
       "{u'file_name': u'ILSVRC2014_train_0000/ILSVRC2014_train_00000001.JPEG',\n",
       " u'height': 354,\n",
       " u'id': 1,\n",
       " u'width': 500}"
      ]
     },
     "execution_count": 76,
     "metadata": {},
     "output_type": "execute_result"
    }
   ],
   "source": [
    "ilsvrc['images'][0]"
   ]
  }
 ],
 "metadata": {
  "kernelspec": {
   "display_name": "Python 2",
   "language": "python",
   "name": "python2"
  },
  "language_info": {
   "codemirror_mode": {
    "name": "ipython",
    "version": 2
   },
   "file_extension": ".py",
   "mimetype": "text/x-python",
   "name": "python",
   "nbconvert_exporter": "python",
   "pygments_lexer": "ipython2",
   "version": "2.7.12"
  }
 },
 "nbformat": 4,
 "nbformat_minor": 2
}
