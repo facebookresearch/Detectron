{
 "cells": [
  {
   "cell_type": "code",
   "execution_count": null,
   "metadata": {},
   "outputs": [],
   "source": [
    "from __future__ import division\n",
    "from __future__ import print_function\n",
    "import _init_paths\n",
    "import json\n",
    "\n",
    "from caffe2.python.core import Net\n",
    "from caffe2.python import workspace\n",
    "from caffe2.proto.caffe2_pb2 import NetDef\n",
    "import caffe2.proto.caffe2_pb2 as pb2\n",
    "\n",
    "from google.protobuf import json_format\n",
    "import pprint"
   ]
  },
  {
   "cell_type": "code",
   "execution_count": null,
   "metadata": {},
   "outputs": [],
   "source": [
    "\n",
    "net = Net('fist_net')\n",
    "X = net.GaussianFill([], ['X'], mean=0.0, std=1.0, shape=[2,3], run_once=0)\n",
    "\n",
    "net_json = json_format.MessageToJson(net.Proto())\n",
    "\n",
    "#json.loads convert a json instance to Python object\n",
    "#json.dumps convert a Python object to JSON formatted str\n",
    "with open('testnet.txt', 'w') as fid:\n",
    "    fid.write(json.dumps(json.loads(net_json), indent=4))\n",
    "    \n",
    "jstr = None    \n",
    "with open('testnet.txt', 'r') as fid:\n",
    "    jstr = json.dumps(json.load(fid))\n",
    "    \n",
    "net2 = NetDef()\n",
    "json_format.Parse(jstr, net2)\n",
    "\n",
    "print(str(net2))\n",
    "    \n",
    "'''\n",
    "init_net = NetDef()\n",
    "with open('param_init_net.pb', 'r') as fid:\n",
    "    init_net.ParseFromString(fid.read())\n",
    "    \n",
    "\n",
    "train_net = NetDef()\n",
    "with open('net.pb', 'r') as fid:\n",
    "    train_net.ParseFromString(fid.read())\n",
    "    \n",
    "print(init_net.name)\n",
    "print(train_net.name)\n",
    "'''"
   ]
  },
  {
   "cell_type": "code",
   "execution_count": null,
   "metadata": {},
   "outputs": [],
   "source": [
    "jstr = None    \n",
    "with open('net.json', 'r') as fid:\n",
    "    jstr = json.dumps(json.load(fid))\n",
    "\n",
    "net = NetDef()\n",
    "json_format.Parse(jstr, net)\n",
    "\n",
    "with open('param_init_net.json', 'r') as fid:\n",
    "    jstr = json.dumps(json.load(fid))\n",
    "    \n",
    "init_net = NetDef()\n",
    "json_format.Parse(jstr, init_net)\n",
    "\n",
    "print(str(net))\n",
    "print('=======================')\n",
    "print(str(init_net))\n",
    "    "
   ]
  },
  {
   "cell_type": "code",
   "execution_count": null,
   "metadata": {},
   "outputs": [],
   "source": [
    "jstr = None    \n",
    "with open('/home/roy/working/Detectron/experiments/output/train/voc_2007_train/generalized_rcnn/net.json', 'r') as fid:\n",
    "    jstr = json.load(fid)\n",
    "\n",
    "\n",
    "ext_list = jstr['externalInput']\n",
    "for it in ext_list:\n",
    "    #print(it)\n",
    "    if it.startswith('gpu_0/roi_blobs_queue'):\n",
    "         #print(it)\n",
    "         ext_list.remove(it)\n",
    "        \n",
    "#print(str(ext_list))\n",
    "\n",
    "op_list = jstr['op']\n",
    "for it_op in op_list:\n",
    "    if it_op['input'][0].startswith('gpu_0/roi_blobs_queue'):\n",
    "        op_list.remove(it_op)\n",
    "\n",
    "print(json.dumps(jstr, indent=4))\n",
    "\n",
    "\n",
    "        \n",
    "#net = NetDef()\n",
    "#json_format.Parse(jstr, net)\n",
    "\n",
    "\n",
    "#print(str(net))\n",
    "#print('=======================')\n",
    "    "
   ]
  },
  {
   "cell_type": "code",
   "execution_count": null,
   "metadata": {},
   "outputs": [],
   "source": []
  }
 ],
 "metadata": {
  "kernelspec": {
   "display_name": "Python 2",
   "language": "python",
   "name": "python2"
  },
  "language_info": {
   "codemirror_mode": {
    "name": "ipython",
    "version": 2
   },
   "file_extension": ".py",
   "mimetype": "text/x-python",
   "name": "python",
   "nbconvert_exporter": "python",
   "pygments_lexer": "ipython2",
   "version": "2.7.12"
  }
 },
 "nbformat": 4,
 "nbformat_minor": 2
}
