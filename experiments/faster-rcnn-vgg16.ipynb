{
 "cells": [
  {
   "cell_type": "markdown",
   "metadata": {},
   "source": [
    "# I will train a faster-rcnn based on vgg16, because I only have a GTX980M with only 4GB memoryon my dell laptop."
   ]
  },
  {
   "cell_type": "markdown",
   "metadata": {},
   "source": [
    "## import libraries"
   ]
  },
  {
   "cell_type": "code",
   "execution_count": null,
   "metadata": {},
   "outputs": [],
   "source": [
    "#%matplotlib inline\n",
    "from __future__ import division\n",
    "from __future__ import print_function\n",
    "import _init_paths\n",
    "import os\n",
    "import numpy as np\n",
    "from caffe2.python import workspace, model_helper, core\n",
    "\n",
    "from modeling import model_builder, VGG16, rpn_heads\n",
    "\n",
    "from core.config import merge_cfg_from_file, cfg\n",
    "\n",
    "from roi_data.loader import RoIDataLoader\n",
    "from datasets.roidb import combined_roidb_for_training\n",
    "from utils.training_stats import TrainingStats\n",
    "\n",
    "workspace.GlobalInit(['caffe2', '--caffe2_log_level=-1', '--caffe2_gpu_memory_tracking=1'])\n",
    "merge_cfg_from_file('./e2e_faster_rcnn_vgg16_pascal2007.yaml')\n",
    "output_dir = os.path.join(os.getcwd(), 'output')"
   ]
  },
  {
   "cell_type": "markdown",
   "metadata": {},
   "source": [
    "## create model"
   ]
  },
  {
   "cell_type": "code",
   "execution_count": null,
   "metadata": {},
   "outputs": [],
   "source": [
    "import utils.c2\n",
    "utils.c2.import_contrib_ops()\n",
    "utils.c2.import_detectron_ops()\n",
    "\n",
    "#调用 model_builder.create 函数创建model\n",
    "train_model = model_builder.create(cfg.MODEL.TYPE, train=True)\n",
    "workspace.RunNetOnce(train_model.param_init_net)\n",
    "\n",
    "#添加数据dataset\n",
    "\"\"\"Load the training dataset and attach the training inputs to the model.\"\"\"\n",
    "print('Loading dataset: {}'.format(cfg.TRAIN.DATASETS))\n",
    "print('Loading proposal:{}'.format(cfg.TRAIN.PROPOSAL_FILES))\n",
    "\n",
    "roidb = combined_roidb_for_training(cfg.TRAIN.DATASETS, cfg.TRAIN.PROPOSAL_FILES)\n",
    "model_builder.add_training_inputs(train_model, roidb=roidb)\n",
    "\n",
    "#把网络村到文件里，并欣赏一下创建的网络\n",
    "with open('./net.pbtxt', 'w') as fid:\n",
    "    fid.write(str(train_model.net.Proto()))\n",
    "with open('./param_init_net.pbtxt', 'w') as fid:\n",
    "    fid.write(str(train_model.param_init_net.Proto()))"
   ]
  },
  {
   "cell_type": "code",
   "execution_count": null,
   "metadata": {},
   "outputs": [],
   "source": [
    "workspace.CreateNet(train_model.net, overwrite=True)\n",
    "# Start loading mini-batches and enqueuing blobs\n",
    "train_model.roi_data_loader.register_sigint_handler()\n",
    "train_model.roi_data_loader.start(prefill=True)\n"
   ]
  },
  {
   "cell_type": "code",
   "execution_count": null,
   "metadata": {},
   "outputs": [],
   "source": [
    "# Save model weights in a dictonay and pickle them to a file.\n",
    "# copy from util/net.py\n",
    "def save_weights(weights_file, model):\n",
    "    blobs = {}\n",
    "    for param in model.params:\n",
    "        print(param)\n",
    "        param_name = str(param)\n",
    "        if param_name not in blobs:\n",
    "            blobs[param_name] = workspace.FetchBlob(param_name)\n",
    "    cfg_yaml = yaml.dump(cfg)\n",
    "    with open(weights_file, 'wb') as fid:\n",
    "        pickle.dump(dict(blobs=blobs, cfg=cfg_yaml), fid, pickle.HIGHTEST_PROTOCOL)\n",
    "    "
   ]
  },
  {
   "cell_type": "code",
   "execution_count": null,
   "metadata": {},
   "outputs": [],
   "source": [
    "print(train_model.losses)\n",
    "\n",
    "def sum_losses(model):\n",
    "    loss = 0.0\n",
    "    for k in train_model.losses:\n",
    "        loss += workspace.FetchBlob('gpu_{}/{}'.format(0,k))"
   ]
  },
  {
   "cell_type": "code",
   "execution_count": null,
   "metadata": {},
   "outputs": [],
   "source": [
    "#开始训练\n",
    "#ITER = cfg.SOLVER.MAX_ITER\n",
    "ITER = 10\n",
    "losses = np.zeros(ITER)\n",
    "metrics = np.zeros(ITER)\n",
    "\n",
    "#print(workspace.Blobs())    \n",
    "for cur_iter in range(ITER):\n",
    "    workspace.RunNet(train_model.net.Proto().name)\n",
    "    \n",
    "    #Got loss\n",
    "    losses[cur_iter] = sum_losses(train_model)\n",
    "    \n",
    "    if (cur_iter + 1) % cfg.TRAIN.SNAPSHOT_ITERS == 0 and cur_iter > start_iter:\n",
    "        print(\"Iter:{}, loss:{:0.8f},metrics:{}\".format(cur_iter, losses[cur_iter], metrics[cur_iter]))\n",
    "        weights_file =os.path.join(output_dir, 'model_iter{}.pkl'.format(cur_iter))\n",
    "        save_weights(weights_file, train_model)\n",
    "    \n",
    "train_model.roi_data_loader.shutdown()"
   ]
  },
  {
   "cell_type": "code",
   "execution_count": null,
   "metadata": {},
   "outputs": [],
   "source": [
    "print(losses)"
   ]
  },
  {
   "cell_type": "code",
   "execution_count": null,
   "metadata": {},
   "outputs": [],
   "source": []
  }
 ],
 "metadata": {
  "kernelspec": {
   "display_name": "Python 2",
   "language": "python",
   "name": "python2"
  },
  "language_info": {
   "codemirror_mode": {
    "name": "ipython",
    "version": 2
   },
   "file_extension": ".py",
   "mimetype": "text/x-python",
   "name": "python",
   "nbconvert_exporter": "python",
   "pygments_lexer": "ipython2",
   "version": "2.7.12"
  }
 },
 "nbformat": 4,
 "nbformat_minor": 2
}
